{
 "cells": [
  {
   "cell_type": "markdown",
   "metadata": {},
   "source": [
    "**TIC TAC TOE**\n",
    "\n",
    "Step by step creation"
   ]
  },
  {
   "cell_type": "markdown",
   "metadata": {},
   "source": [
    "**First things first: showing the game board**"
   ]
  },
  {
   "cell_type": "code",
   "execution_count": 1,
   "metadata": {},
   "outputs": [],
   "source": [
    "from IPython.display import clear_output\n",
    "\n",
    "def display_board(board):\n",
    "    clear_output()\n",
    "    print(f' {board[1]} / {board[2]} / {board[3]} ')\n",
    "    print(f' {board[4]} / {board[5]} / {board[6]} ')\n",
    "    print(f' {board[7]} / {board[8]} / {board[9]} ')\n",
    "    pass"
   ]
  },
  {
   "cell_type": "markdown",
   "metadata": {},
   "source": [
    "**Test the board and make adjustments as needed**"
   ]
  },
  {
   "cell_type": "code",
   "execution_count": 2,
   "metadata": {},
   "outputs": [],
   "source": [
    "test_board = ['#','O','X','O','O','X','O','X','O','X']\n",
    "display_board(test_board)"
   ]
  },
  {
   "cell_type": "markdown",
   "metadata": {},
   "source": [
    "**Allow players to choose their markers**"
   ]
  },
  {
   "cell_type": "code",
   "execution_count": 3,
   "metadata": {},
   "outputs": [],
   "source": [
    "def player_input():\n",
    "    player1 = ''\n",
    "    while player1 != 'X' and player1 != 'O':\n",
    "        player1 = input(\"Please pick a marker 'X' or 'O'\").upper()\n",
    "    if player1 == 'X':\n",
    "        player2 = 'O'\n",
    "    else:\n",
    "        player2 = 'X'\n",
    "    return [player1,player2]"
   ]
  },
  {
   "cell_type": "markdown",
   "metadata": {},
   "source": [
    "**Test it (tests will become less frequent)**"
   ]
  },
  {
   "cell_type": "code",
   "execution_count": 4,
   "metadata": {},
   "outputs": [],
   "source": [
    "#player_input()"
   ]
  },
  {
   "cell_type": "markdown",
   "metadata": {},
   "source": [
    "**Writing down the markers on the board**"
   ]
  },
  {
   "cell_type": "code",
   "execution_count": 5,
   "metadata": {},
   "outputs": [],
   "source": [
    "def place_marker(board, marker, position):\n",
    "    board[position] = marker\n",
    "    pass"
   ]
  },
  {
   "cell_type": "markdown",
   "metadata": {},
   "source": [
    "**I promise tests will become less frequent!**"
   ]
  },
  {
   "cell_type": "code",
   "execution_count": 6,
   "metadata": {},
   "outputs": [],
   "source": [
    "place_marker(test_board,'$',8)\n",
    "display_board(test_board)"
   ]
  },
  {
   "cell_type": "markdown",
   "metadata": {},
   "source": [
    "**Checking win conditions, there might be a cleaner way, but bear with me**"
   ]
  },
  {
   "cell_type": "code",
   "execution_count": 7,
   "metadata": {},
   "outputs": [],
   "source": [
    "def win_check(board, mark):\n",
    "    if board[1] == board[2] and board[1] == board[3] and board[1] == mark:\n",
    "        return True\n",
    "    elif board[4] == board[5] and board[4] == board[6] and board[4] == mark:\n",
    "        return True\n",
    "    elif board[7] == board[8] and board[7] == board[9] and board[7] == mark:\n",
    "        return True\n",
    "    elif board[1] == board[4] and board[1] == board[7] and board[1] == mark:\n",
    "        return True\n",
    "    elif board[2] == board[5] and board[2] == board[8] and board[2] == mark:\n",
    "        return True\n",
    "    elif board[3] == board[6] and board[3] == board[9] and board[3] == mark:\n",
    "        return True\n",
    "    elif board[1] == board[5] and board[1] == board[9] and board[1] == mark:\n",
    "        return True\n",
    "    elif board[3] == board[5] and board[3] == board[7] and board[3] == mark:\n",
    "        return True\n",
    "    else:\n",
    "        return False"
   ]
  },
  {
   "cell_type": "markdown",
   "metadata": {},
   "source": [
    "**I'm testing again, sorry**"
   ]
  },
  {
   "cell_type": "code",
   "execution_count": 8,
   "metadata": {},
   "outputs": [],
   "source": [
    "win_check(test_board,'X')"
   ]
  },
  {
   "cell_type": "markdown",
   "metadata": {},
   "source": [
    "**Choosing which player goes firsty randomly so its fair**"
   ]
  },
  {
   "cell_type": "code",
   "execution_count": 9,
   "metadata": {},
   "outputs": [],
   "source": [
    "import random\n",
    "\n",
    "def choose_first():\n",
    "    first = random.randint(0,1)\n",
    "    print(f'\\nPlayer {first+1} goes first')\n",
    "    return first"
   ]
  },
  {
   "cell_type": "markdown",
   "metadata": {},
   "source": [
    "**Checking if a board position is free**"
   ]
  },
  {
   "cell_type": "code",
   "execution_count": 10,
   "metadata": {},
   "outputs": [],
   "source": [
    "def space_check(board, position):\n",
    "    return board[position] == ' '"
   ]
  },
  {
   "cell_type": "markdown",
   "metadata": {},
   "source": [
    "**Checking if the whole board is free**"
   ]
  },
  {
   "cell_type": "code",
   "execution_count": 11,
   "metadata": {},
   "outputs": [],
   "source": [
    "def full_board_check(board):\n",
    "    return ' ' not in board\n",
    "\n",
    "full_board_check(test_board)"
   ]
  },
  {
   "cell_type": "markdown",
   "metadata": {},
   "source": [
    "**Taking a player's input. (note: by the time i created this, i hadn't learned about error handling yet, so entering anything other than a number will result in error, but i left this as is to be true to my learning process)**"
   ]
  },
  {
   "cell_type": "code",
   "execution_count": 12,
   "metadata": {},
   "outputs": [],
   "source": [
    "def player_choice(board):\n",
    "    nxtpos = 0\n",
    "    while not space_check(board, int(nxtpos)):\n",
    "        nxtpos = input('Choose a position to place your marker (1 - 9):\\n')\n",
    "        if len(nxtpos) != 1:\n",
    "            print('Thats not a valid input')\n",
    "            nxtpos = 0\n",
    "    return int(nxtpos)"
   ]
  },
  {
   "cell_type": "markdown",
   "metadata": {},
   "source": [
    "**Asking if the players want to go again**"
   ]
  },
  {
   "cell_type": "code",
   "execution_count": 15,
   "metadata": {},
   "outputs": [],
   "source": [
    "def replay():\n",
    "    replay =''\n",
    "    while replay != 'Yes' and replay != 'No':\n",
    "        replay = input('Would you like to play again? (Yes or No)\\n').capitalize()\n",
    "    if replay == 'Yes':\n",
    "        return True\n",
    "    else:\n",
    "        return False"
   ]
  },
  {
   "cell_type": "markdown",
   "metadata": {
    "collapsed": true
   },
   "source": [
    "**Finally, putting the game together!**"
   ]
  },
  {
   "cell_type": "code",
   "execution_count": 16,
   "metadata": {},
   "outputs": [],
   "source": [
    "print('Welcome to Tic Tac Toe!')\n",
    "\n",
    "board = ['#',' ',' ',' ',' ',' ',' ',' ',' ',' ']\n",
    "\n",
    "play = input('Press Enter to start')\n",
    "\n",
    "display_board(board)\n",
    "marker = player_input()\n",
    "\n",
    "while play != 'asdasfdfdsafs':\n",
    "    board = ['#',' ',' ',' ',' ',' ',' ',' ',' ',' ']\n",
    "    display_board(board)\n",
    "    first = choose_first()\n",
    "    second = 0\n",
    "    if first == 0:\n",
    "        second = 1\n",
    "        \n",
    "    while win_check(board, marker[0]) != True and win_check(board, marker[1]) != True and full_board_check(board) !=True:\n",
    "        #Player 1 Turn\n",
    "        print(f\"\\nPlayer's {first+1} turn\" )\n",
    "        place_marker(board, marker[first], player_choice(board))\n",
    "        display_board(board)\n",
    "        if win_check(board, marker[first]) or full_board_check(board):\n",
    "            break\n",
    "        # Player2's turn.\n",
    "        print(f\"\\nPlayer's {second+1} turn\" )\n",
    "        place_marker(board, marker[second], player_choice(board))\n",
    "        display_board(board)\n",
    "\n",
    "    if win_check(board, marker[0]):\n",
    "        print('\\n******* Player 1 wins this round! *******')\n",
    "    elif win_check(board, marker[1]):\n",
    "        print('\\n******* Player 2 wins this round! *******')\n",
    "    else:\n",
    "        print(\"\\n It's a tie! ):\")\n",
    "            \n",
    "    if not replay():\n",
    "        clear_output()\n",
    "        break"
   ]
  },
  {
   "cell_type": "markdown",
   "metadata": {
    "collapsed": true
   },
   "source": [
    "## Good Job!"
   ]
  }
 ],
 "metadata": {
  "kernelspec": {
   "display_name": "Python 3",
   "language": "python",
   "name": "python3"
  },
  "language_info": {
   "codemirror_mode": {
    "name": "ipython",
    "version": 3
   },
   "file_extension": ".py",
   "mimetype": "text/x-python",
   "name": "python",
   "nbconvert_exporter": "python",
   "pygments_lexer": "ipython3",
   "version": "3.7.3"
  }
 },
 "nbformat": 4,
 "nbformat_minor": 1
}
